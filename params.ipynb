{
  "cells": [
    {
      "cell_type": "code",
      "metadata": {},
      "source": [
        "\n",
        "class params_class:\n",
        "    i = 100 #iters\n",
        "    items = 50\n",
        "    rest = 4 #restrictions\n",
        "    n = 50\n",
        "    options = {'c1': 0.5, 'c2': 0.3, 'w': 0.9, 'k': n, 'p': 1}\n",
        "    d = items\n",
        "params = params_class()\n",
        "\n"
      ],
      "outputs": [],
      "execution_count": null
    }
  ],
  "metadata": {
    "anaconda-cloud": {},
    "kernelspec": {
      "display_name": "Python 3",
      "language": "python",
      "name": "python3"
    },
    "language_info": {
      "codemirror_mode": {
        "name": "ipython",
        "version": 3
      },
      "file_extension": ".py",
      "mimetype": "text/x-python",
      "name": "python",
      "nbconvert_exporter": "python",
      "pygments_lexer": "ipython3",
      "version": "3.6.1"
    }
  },
  "nbformat": 4,
  "nbformat_minor": 1
}